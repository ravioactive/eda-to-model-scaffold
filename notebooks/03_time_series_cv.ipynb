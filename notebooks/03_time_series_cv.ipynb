{
  "cells": [
    {
      "cell_type": "markdown",
      "metadata": {},
      "source": [
        "# Time-Series Variant with TimeSeriesSplit\n",
        "Creates a synthetic hourly series, builds lag/rolling features, and evaluates models with **TimeSeriesSplit**.\n"
      ]
    },
    {
      "cell_type": "code",
      "metadata": {},
      "execution_count": null,
      "outputs": [],
      "source": [
        "import numpy as np, pandas as pd\n",
        "from src.time_series.features import make_synthetic_series, build_lagged_features\n",
        "from src.time_series.workflow import timeseries_cv_evaluate\n",
        "from src.models.gbm import lgbm_regressor, xgb_regressor\n",
        "from src.models.baselines import ridge_regressor\n"
      ]
    },
    {
      "cell_type": "code",
      "metadata": {},
      "execution_count": null,
      "outputs": [],
      "source": [
        "df = make_synthetic_series(n=1000)\n",
        "X, y = build_lagged_features(df)\n",
        "data = pd.concat([X, y], axis=1).dropna()\n",
        "X, y = data.drop(columns=['y']), data['y']\n",
        "X.shape, y.shape\n"
      ]
    },
    {
      "cell_type": "code",
      "metadata": {},
      "execution_count": null,
      "outputs": [],
      "source": [
        "rmse_ridge = timeseries_cv_evaluate(X, y, ridge_regressor())\n",
        "rmse_lgbm = timeseries_cv_evaluate(X, y, lgbm_regressor())\n",
        "try:\n",
        "    rmse_xgb = timeseries_cv_evaluate(X, y, xgb_regressor())\n",
        "except Exception:\n",
        "    rmse_xgb = None\n",
        "{'ridge_rmse': rmse_ridge, 'lgbm_rmse': rmse_lgbm, 'xgb_rmse': rmse_xgb}\n"
      ]
    }
  ],
  "metadata": {
    "kernelspec": {
      "display_name": "Python 3",
      "language": "python",
      "name": "python3"
    }
  },
  "nbformat": 4,
  "nbformat_minor": 5
}