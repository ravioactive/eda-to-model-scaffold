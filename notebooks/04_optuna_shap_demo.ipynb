{
  "cells": [
    {
      "cell_type": "markdown",
      "metadata": {},
      "source": [
        "# Optuna Tuning + SHAP Explainability Demo\n",
        "This notebook tunes a GBM with Optuna, trains the best pipeline, and produces SHAP explanations.\n"
      ]
    },
    {
      "cell_type": "code",
      "metadata": {},
      "execution_count": null,
      "outputs": [],
      "source": [
        "import numpy as np, pandas as pd\n",
        "from src.data.loaders import load_classification_breast_cancer\n",
        "from src.features.pipelines import build_leakage_safe_preprocessor\n",
        "from src.tuning.optuna_tuner import tune_gbm\n",
        "from src.explain.shap_utils import plot_summary, plot_dependence\n",
        "import shap\n",
        "shap.initjs()\n"
      ]
    },
    {
      "cell_type": "code",
      "metadata": {},
      "execution_count": null,
      "outputs": [],
      "source": [
        "X, y = load_classification_breast_cancer()\n",
        "pre = build_leakage_safe_preprocessor(X)\n",
        "best_pipe, best_params = tune_gbm(task='classification', X=X, y=y, preprocessor=pre, family='lgbm', n_trials=20)\n",
        "best_params\n"
      ]
    },
    {
      "cell_type": "code",
      "metadata": {},
      "execution_count": null,
      "outputs": [],
      "source": [
        "# SHAP explanations (TreeExplainer path for LightGBM)\n",
        "X_sample = X.sample(300, random_state=42)\n",
        "# Access underlying model after pipeline\n",
        "model = best_pipe.named_steps['model']\n",
        "plot_summary(model, X_sample)\n"
      ]
    },
    {
      "cell_type": "code",
      "metadata": {},
      "execution_count": null,
      "outputs": [],
      "source": [
        "# Dependence plot for the most important feature (manually specify a feature name from X.columns)\n",
        "feature_name = X.columns[0]\n",
        "plot_dependence(model, X_sample, feature=feature_name)\n"
      ]
    }
  ],
  "metadata": {
    "kernelspec": {
      "display_name": "Python 3",
      "language": "python",
      "name": "python3"
    }
  },
  "nbformat": 4,
  "nbformat_minor": 5
}