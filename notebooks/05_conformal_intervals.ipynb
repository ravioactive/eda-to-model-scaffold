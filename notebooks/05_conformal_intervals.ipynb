{
  "cells": [
    {
      "cell_type": "markdown",
      "metadata": {},
      "source": [
        "# Split Conformal Prediction for Regression\n",
        "We fit a model on a training set, use a **calibration (validation) set** to estimate residual quantiles,\n",
        "and form **(1 - \u03b1)** prediction intervals with guaranteed marginal coverage under exchangeability."
      ]
    },
    {
      "cell_type": "code",
      "metadata": {},
      "execution_count": null,
      "outputs": [],
      "source": [
        "import numpy as np, pandas as pd, matplotlib.pyplot as plt\n",
        "from sklearn.pipeline import Pipeline\n",
        "from sklearn.model_selection import train_test_split\n",
        "from src.data.loaders import load_regression_synthetic\n",
        "from src.features.pipelines import build_leakage_safe_preprocessor\n",
        "from src.models.gbm import lgbm_regressor\n",
        "from src.evaluation.metrics import regression_metrics\n",
        "\n",
        "plt.rcParams['figure.figsize']=(6,4)\n",
        "ALPHA = 0.1  # 90% intervals\n"
      ]
    },
    {
      "cell_type": "code",
      "metadata": {},
      "execution_count": null,
      "outputs": [],
      "source": [
        "X, y = load_regression_synthetic(n_samples=1500)\n",
        "X_train, X_temp, y_train, y_temp = train_test_split(X, y, test_size=0.4, random_state=42)\n",
        "X_cal, X_test, y_cal, y_test = train_test_split(X_temp, y_temp, test_size=0.5, random_state=42)\n",
        "pre = build_leakage_safe_preprocessor(X_train)\n",
        "model = lgbm_regressor()\n",
        "pipe = Pipeline([('prep', pre), ('model', model)])\n",
        "pipe.fit(X_train, y_train)\n",
        "y_cal_pred = pipe.predict(X_cal)\n",
        "cal_resid = np.abs(y_cal - y_cal_pred)\n",
        "q = np.quantile(cal_resid, 1-ALPHA)\n",
        "print('Calibrated residual quantile q:', q)\n"
      ]
    },
    {
      "cell_type": "code",
      "metadata": {},
      "execution_count": null,
      "outputs": [],
      "source": [
        "y_test_pred = pipe.predict(X_test)\n",
        "lower = y_test_pred - q\n",
        "upper = y_test_pred + q\n",
        "coverage = np.mean((y_test >= lower) & (y_test <= upper))\n",
        "print(f'Empirical coverage: {coverage:.3f} (target {(1-ALPHA):.2f})')\n"
      ]
    },
    {
      "cell_type": "code",
      "metadata": {},
      "execution_count": null,
      "outputs": [],
      "source": [
        "plt.scatter(y_test_pred, y_test, s=8, alpha=0.6)\n",
        "plt.plot([y_test_pred.min(), y_test_pred.max()], [y_test_pred.min(), y_test_pred.max()], linestyle='--')\n",
        "plt.fill_between(np.sort(y_test_pred), np.sort(y_test_pred-q), np.sort(y_test_pred+q), alpha=0.2)\n",
        "plt.xlabel('Prediction')\n",
        "plt.ylabel('True')\n",
        "plt.title('Conformal Prediction Intervals (split)')\n",
        "plt.tight_layout(); plt.show()\n"
      ]
    }
  ],
  "metadata": {
    "kernelspec": {
      "display_name": "Python 3",
      "language": "python",
      "name": "python3"
    }
  },
  "nbformat": 4,
  "nbformat_minor": 5
}