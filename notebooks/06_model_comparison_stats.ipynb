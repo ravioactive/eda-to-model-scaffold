{
  "cells": [
    {
      "cell_type": "markdown",
      "metadata": {},
      "source": [
        "# Model Comparison with CV, Metric Distributions, and Statistical Tests\n",
        "We compare a **penalized logistic regression** vs a **GBM** on the breast_cancer dataset using stratified 5-fold CV:\n",
        "1. Compute per-fold metrics (ROC-AUC, PR-AUC, Brier)\n",
        "2. Plot metric distributions\n",
        "3. Build **OOF predictions** for both models and run **DeLong** test on ROC-AUC\n",
        "4. Run **paired t-test / Wilcoxon** on per-fold metrics\n"
      ]
    },
    {
      "cell_type": "code",
      "metadata": {},
      "execution_count": null,
      "outputs": [],
      "source": [
        "import numpy as np, pandas as pd, matplotlib.pyplot as plt\n",
        "from sklearn.model_selection import StratifiedKFold\n",
        "from sklearn.pipeline import Pipeline\n",
        "from sklearn.metrics import roc_auc_score, average_precision_score, brier_score_loss\n",
        "from src.data.loaders import load_classification_breast_cancer\n",
        "from src.features.pipelines import build_leakage_safe_preprocessor\n",
        "from src.models.baselines import penalized_logistic\n",
        "from src.models.gbm import lgbm_classifier, xgb_classifier\n",
        "from src.evaluation.stats import delong_roc_test, paired_ttest, wilcoxon_signed\n",
        "\n",
        "plt.rcParams['figure.figsize'] = (6,4)\n"
      ]
    },
    {
      "cell_type": "code",
      "metadata": {},
      "execution_count": null,
      "outputs": [],
      "source": [
        "X, y = load_classification_breast_cancer()\n",
        "pre = build_leakage_safe_preprocessor(X)\n",
        "log_reg = penalized_logistic()\n",
        "gbm = lgbm_classifier() or xgb_classifier()\n",
        "log_pipe = Pipeline([('prep', pre), ('model', log_reg)])\n",
        "gbm_pipe = Pipeline([('prep', pre), ('model', gbm)]) if gbm is not None else None\n",
        "\n",
        "kf = StratifiedKFold(n_splits=5, shuffle=True, random_state=42)\n",
        "\n",
        "metrics_log, metrics_gbm = [], []\n",
        "oof_proba_log = np.zeros(len(y))\n",
        "oof_proba_gbm = np.zeros(len(y)) if gbm_pipe is not None else None\n",
        "\n",
        "for fold, (tr, va) in enumerate(kf.split(X, y), 1):\n",
        "    X_tr, X_va = X.iloc[tr], X.iloc[va]\n",
        "    y_tr, y_va = y.iloc[tr], y.iloc[va]\n",
        "\n",
        "    # Logistic\n",
        "    log_pipe.fit(X_tr, y_tr)\n",
        "    p_log = log_pipe.predict_proba(X_va)[:,1]\n",
        "    oof_proba_log[va] = p_log\n",
        "    metrics_log.append([\n",
        "        roc_auc_score(y_va, p_log),\n",
        "        average_precision_score(y_va, p_log),\n",
        "        brier_score_loss(y_va, p_log)\n",
        "    ])\n",
        "\n",
        "    # GBM\n",
        "    if gbm_pipe is not None:\n",
        "        gbm_pipe.fit(X_tr, y_tr)\n",
        "        p_gbm = gbm_pipe.predict_proba(X_va)[:,1]\n",
        "        oof_proba_gbm[va] = p_gbm\n",
        "        metrics_gbm.append([\n",
        "            roc_auc_score(y_va, p_gbm),\n",
        "            average_precision_score(y_va, p_gbm),\n",
        "            brier_score_loss(y_va, p_gbm)\n",
        "        ])\n",
        "\n",
        "metrics_log = np.array(metrics_log)\n",
        "metrics_gbm = np.array(metrics_gbm) if gbm_pipe is not None else None\n",
        "metrics_log, metrics_gbm\n"
      ]
    },
    {
      "cell_type": "code",
      "metadata": {},
      "execution_count": null,
      "outputs": [],
      "source": [
        "# 1) Per-fold distributions\n",
        "labels = ['ROC-AUC', 'PR-AUC', 'Brier']\n",
        "fig, axes = plt.subplots(1, 3, figsize=(12,4))\n",
        "for j, ax in enumerate(axes):\n",
        "    ax.boxplot([metrics_log[:,j], metrics_gbm[:,j] if metrics_gbm is not None else metrics_log[:,j]], labels=['LogReg','GBM' if metrics_gbm is not None else 'LogReg'])\n",
        "    ax.set_title(labels[j])\n",
        "plt.tight_layout(); plt.show()\n"
      ]
    },
    {
      "cell_type": "code",
      "metadata": {},
      "execution_count": null,
      "outputs": [],
      "source": [
        "# 2) Statistical tests\n",
        "if metrics_gbm is not None:\n",
        "    for j, name in enumerate(labels):\n",
        "        t, p = paired_ttest(metrics_log[:,j], metrics_gbm[:,j])\n",
        "        w, pw = wilcoxon_signed(metrics_log[:,j], metrics_gbm[:,j])\n",
        "        print(f\"{name}: paired t={t:.3f}, p={p:.3g}; Wilcoxon W={w:.3f}, p={pw:.3g}\")\n",
        "else:\n",
        "    print('GBM unavailable; only baseline shown.')\n"
      ]
    },
    {
      "cell_type": "code",
      "metadata": {},
      "execution_count": null,
      "outputs": [],
      "source": [
        "# 3) DeLong on OOF predictions (ROC-AUC)\n",
        "if metrics_gbm is not None:\n",
        "    z, p, auc_log, auc_gbm = delong_roc_test(y, oof_proba_log, oof_proba_gbm)\n",
        "    print(f\"DeLong z={z:.3f}, p={p:.3g}; AUC_log={auc_log:.4f}, AUC_gbm={auc_gbm:.4f}\")\n",
        "else:\n",
        "    print('GBM unavailable; DeLong not run.')\n"
      ]
    }
  ],
  "metadata": {
    "kernelspec": {
      "display_name": "Python 3",
      "language": "python",
      "name": "python3"
    }
  },
  "nbformat": 4,
  "nbformat_minor": 5
}